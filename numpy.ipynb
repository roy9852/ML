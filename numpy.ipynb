{
 "cells": [
  {
   "cell_type": "code",
   "execution_count": 2,
   "id": "7850f0b5",
   "metadata": {},
   "outputs": [],
   "source": [
    "import numpy as np"
   ]
  },
  {
   "cell_type": "code",
   "execution_count": 7,
   "id": "f55c2fa8",
   "metadata": {},
   "outputs": [
    {
     "name": "stdout",
     "output_type": "stream",
     "text": [
      "array1 type : <class 'numpy.ndarray'>\n",
      "array1 shape :  (3,)\n"
     ]
    }
   ],
   "source": [
    "array1 = np.array([1, 2, 3])\n",
    "print('array1 type :', type(array1))\n",
    "print('array1 shape : ', array1.shape)"
   ]
  },
  {
   "cell_type": "code",
   "execution_count": 8,
   "id": "4707220e",
   "metadata": {},
   "outputs": [
    {
     "name": "stdout",
     "output_type": "stream",
     "text": [
      "array2 type : <class 'numpy.ndarray'>\n",
      "array2 shape :  (2, 3)\n"
     ]
    }
   ],
   "source": [
    "array2 = np.array([[1, 2, 3],\n",
    "                   [4, 5, 6]])\n",
    "print('array2 type :', type(array2))\n",
    "print('array2 shape : ', array2.shape)"
   ]
  },
  {
   "cell_type": "code",
   "execution_count": 9,
   "id": "251d592b",
   "metadata": {},
   "outputs": [
    {
     "name": "stdout",
     "output_type": "stream",
     "text": [
      "array3 type : <class 'numpy.ndarray'>\n",
      "array3 shape :  (1, 3)\n"
     ]
    }
   ],
   "source": [
    "array3 = np.array([[1, 2, 3]])\n",
    "print('array3 type :', type(array3))\n",
    "print('array3 shape : ', array3.shape)"
   ]
  },
  {
   "cell_type": "code",
   "execution_count": 24,
   "id": "aff98a88",
   "metadata": {},
   "outputs": [
    {
     "name": "stdout",
     "output_type": "stream",
     "text": [
      "array1 : 1차원, array2 : 2차원, array3 : 2차원,\n",
      "array1 : 1차원, array2 : 2차원, array3 : 2차원,\n"
     ]
    }
   ],
   "source": [
    "print('array1 : {0}차원, array2 : {1}차원, array3 : {2}차원,'.format(array1.ndim, array2.ndim, array3.ndim))\n",
    "# {0}, {1}, {2} : 몇번째 변수를 입력할 것인지\n",
    "# {0:4}, {0:9} : 해당 변수를 위한 자릿수를 얼마나 제공할 것인지\n",
    "\n",
    "# 이름을 미리 배정할 수도 있음\n",
    "print('array1 : {dim1}차원, array2 : {dim2}차원, array3 : {dim3}차원,'\n",
    "      .format(dim1 = array1.ndim, dim2 = array2.ndim, dim3 = array3.ndim))"
   ]
  },
  {
   "cell_type": "code",
   "execution_count": 26,
   "id": "efb55bc1",
   "metadata": {},
   "outputs": [
    {
     "name": "stdout",
     "output_type": "stream",
     "text": [
      "<class 'list'>\n",
      "<class 'numpy.ndarray'>\n",
      "[1 2 3] int32\n"
     ]
    }
   ],
   "source": [
    "list1 = [1, 2, 3]\n",
    "print(type(list1))\n",
    "\n",
    "array1 = np.array(list1)\n",
    "print(type(array1))\n",
    "print(array1, array1.dtype)\n",
    "\n",
    "# 리스트는 그 안에 여려가지 자료형의 데이터 저장 가능\n",
    "# ndarray는 딱 한가지 데이터형만 저장 가능, 정수일수도, 실수일수도, 복소수일수도"
   ]
  },
  {
   "cell_type": "code",
   "execution_count": 27,
   "id": "45dcfbb3",
   "metadata": {},
   "outputs": [
    {
     "name": "stdout",
     "output_type": "stream",
     "text": [
      "['1' '2' 'test'] <U11\n",
      "[1. 2. 3.] float64\n"
     ]
    }
   ],
   "source": [
    "list2 = [1, 2, 'test']\n",
    "array2 = np.array(list2)\n",
    "print(array2, array2.dtype)\n",
    "\n",
    "list3 = [1, 2, 3.0]\n",
    "array3 = np.array(list3)\n",
    "print(array3, array3.dtype)"
   ]
  },
  {
   "cell_type": "code",
   "execution_count": 31,
   "id": "46c5c679",
   "metadata": {},
   "outputs": [
    {
     "name": "stdout",
     "output_type": "stream",
     "text": [
      "[1. 2. 3.] float64\n",
      "[1 2 3] int32\n",
      "[1 2 3] int32\n"
     ]
    }
   ],
   "source": [
    "array_int = np.array([1, 2, 3])\n",
    "array_float = array_int.astype('float64')\n",
    "print(array_float, array_float.dtype)\n",
    "\n",
    "array_int_new = array_float.astype('int32')\n",
    "print(array_int_new, array_int_new.dtype)\n",
    "\n",
    "array_float_new = np.array([1.1, 2.2, 3.3])\n",
    "array_int_new_new = array_float_new.astype('int32')\n",
    "print(array_int_new_new, array_int_new_new.dtype)"
   ]
  },
  {
   "cell_type": "code",
   "execution_count": 35,
   "id": "00dc467f",
   "metadata": {},
   "outputs": [
    {
     "name": "stdout",
     "output_type": "stream",
     "text": [
      "[0 1 2 3 4 5 6 7 8 9]\n",
      "int32 (10,)\n",
      "[2.  2.5 3.  3.5 4.  4.5 5.  5.5 6.  6.5 7.  7.5 8.  8.5 9.  9.5]\n",
      "float64 (16,)\n"
     ]
    }
   ],
   "source": [
    "sequence_array = np.arange(10)\n",
    "print(sequence_array)\n",
    "print(sequence_array.dtype, sequence_array.shape)\n",
    "\n",
    "sequence_array_new = np.arange(2.0, 10.0, 0.5)\n",
    "print(sequence_array_new)\n",
    "print(sequence_array_new.dtype, sequence_array_new.shape)"
   ]
  },
  {
   "cell_type": "code",
   "execution_count": 46,
   "id": "63faa004",
   "metadata": {},
   "outputs": [
    {
     "name": "stdout",
     "output_type": "stream",
     "text": [
      "[[0 0]\n",
      " [0 0]\n",
      " [0 0]]\n",
      "int32 (3, 2)\n",
      "[[1. 1. 1.]\n",
      " [1. 1. 1.]\n",
      " [1. 1. 1.]\n",
      " [1. 1. 1.]]\n",
      "float64 (4, 3)\n"
     ]
    }
   ],
   "source": [
    "zero_array = np.zeros((3, 2), dtype='int32')\n",
    "print(zero_array)\n",
    "print(zero_array.dtype, zero_array.shape)\n",
    "\n",
    "one_array = np.ones((4, 3))\n",
    "print(one_array)\n",
    "print(one_array.dtype, one_array.shape)"
   ]
  },
  {
   "cell_type": "code",
   "execution_count": 48,
   "id": "f0fb9f0a",
   "metadata": {},
   "outputs": [
    {
     "name": "stdout",
     "output_type": "stream",
     "text": [
      "array1:\n",
      " [0 1 2 3 4 5 6 7 8 9]\n",
      "array2:\n",
      " [[0 1 2 3 4]\n",
      " [5 6 7 8 9]]\n",
      "array3:\n",
      " [[0 1]\n",
      " [2 3]\n",
      " [4 5]\n",
      " [6 7]\n",
      " [8 9]]\n",
      "array4:\n",
      " [[0 1 2 3 4]\n",
      " [5 6 7 8 9]]\n",
      "array5:\n",
      " [[0 1 2 3 4]\n",
      " [5 6 7 8 9]]\n"
     ]
    }
   ],
   "source": [
    "array1 = np.arange(10)\n",
    "print('array1:\\n', array1)\n",
    "\n",
    "array2 = array1.reshape(2, 5)\n",
    "print('array2:\\n', array2)\n",
    "\n",
    "array3 = array1.reshape(5, 2)\n",
    "print('array3:\\n', array3)\n",
    "\n",
    "array4 = array1.reshape(-1, 5)\n",
    "print('array4:\\n', array4)\n",
    "\n",
    "array5 = array1.reshape(2, -1)\n",
    "print('array5:\\n', array5)"
   ]
  },
  {
   "cell_type": "code",
   "execution_count": 58,
   "id": "53078657",
   "metadata": {},
   "outputs": [
    {
     "name": "stdout",
     "output_type": "stream",
     "text": [
      "array3d:\n",
      " [[[0 1]\n",
      "  [2 3]]\n",
      "\n",
      " [[4 5]\n",
      "  [6 7]]]\n",
      "shape :  (2, 2, 2)\n",
      "array2d:\n",
      " [[0]\n",
      " [1]\n",
      " [2]\n",
      " [3]\n",
      " [4]\n",
      " [5]\n",
      " [6]\n",
      " [7]]\n",
      "shape :  (8, 1)\n",
      "array2d_new:\n",
      " [[0]\n",
      " [1]\n",
      " [2]\n",
      " [3]\n",
      " [4]\n",
      " [5]\n",
      " [6]\n",
      " [7]]\n",
      "shape :  (8, 1)\n"
     ]
    }
   ],
   "source": [
    "array1 = np.arange(8)\n",
    "\n",
    "array3d = array1.reshape(2, 2, 2)\n",
    "print('array3d:\\n', array3d)\n",
    "print('shape : ', array3d.shape)\n",
    "\n",
    "# 차원낮추기 (일렬나열)\n",
    "array2d = array3d.reshape(-1, 1)\n",
    "print('array2d:\\n', array2d)\n",
    "print('shape : ', array2d.shape)\n",
    "\n",
    "# 차원높이기 (일렬나열)\n",
    "array2d_new = array1.reshape(-1, 1)\n",
    "print('array2d_new:\\n', array2d_new)\n",
    "print('shape : ', array2d_new.shape)"
   ]
  },
  {
   "cell_type": "code",
   "execution_count": 61,
   "id": "49a8410f",
   "metadata": {},
   "outputs": [
    {
     "name": "stdout",
     "output_type": "stream",
     "text": [
      "array1 :  [0 1 2 3 4 5 6 7 8 9]\n",
      "value: 2\n",
      "<class 'numpy.int32'>\n",
      "8\n",
      "array1 :  [  0   1   2   3   4   5   6   7   8 100]\n"
     ]
    }
   ],
   "source": [
    "array1 = np.arange(0, 10, 1)\n",
    "print('array1 : ', array1)\n",
    "\n",
    "value = array1[2]\n",
    "print('value:', value)\n",
    "print(type(value))\n",
    "\n",
    "print(array1[-2])\n",
    "\n",
    "array1[-1] = 100\n",
    "print('array1 : ', array1)"
   ]
  },
  {
   "cell_type": "code",
   "execution_count": 63,
   "id": "466d0262",
   "metadata": {},
   "outputs": [
    {
     "name": "stdout",
     "output_type": "stream",
     "text": [
      "[[1 2 3]\n",
      " [4 5 6]\n",
      " [7 8 9]]\n",
      "(row=0, col=0) index 가리키는 값 1\n",
      "(row=0, col=1) index 가리키는 값 2\n",
      "(row=1, col=0) index 가리키는 값 4\n",
      "(row=2, col=2) index 가리키는 값 9\n"
     ]
    }
   ],
   "source": [
    "array1d = np.arange(1, 10)\n",
    "array2d = array1d.reshape(3, 3)\n",
    "print(array2d)\n",
    "\n",
    "print('(row=0, col=0) index 가리키는 값', array2d[0, 0])\n",
    "print('(row=0, col=1) index 가리키는 값', array2d[0, 1])\n",
    "print('(row=1, col=0) index 가리키는 값', array2d[1, 0])\n",
    "print('(row=2, col=2) index 가리키는 값', array2d[2, 2])"
   ]
  },
  {
   "cell_type": "code",
   "execution_count": 66,
   "id": "080978c8",
   "metadata": {},
   "outputs": [
    {
     "name": "stdout",
     "output_type": "stream",
     "text": [
      "[[[1 2]\n",
      "  [3 4]]\n",
      "\n",
      " [[5 6]\n",
      "  [7 8]]]\n",
      "(depth = 0, row=0, col=0) index 가리키는 값 1\n",
      "(depth = 0, row=0, col=1) index 가리키는 값 3\n",
      "(depth = 1, row=1, col=1) index 가리키는 값 7\n",
      "(depth = 1, row=1, col=0) index 가리키는 값 6\n"
     ]
    }
   ],
   "source": [
    "array1d = np.arange(1, 9)\n",
    "array3d = array1d.reshape(2, 2, 2)\n",
    "print(array3d)\n",
    "\n",
    "# depth, row, col 순서\n",
    "print('(depth = 0, row=0, col=0) index 가리키는 값', array3d[0, 0, 0])\n",
    "print('(depth = 0, row=1, col=0) index 가리키는 값', array3d[0, 1, 0])\n",
    "print('(depth = 1, row=1, col=0) index 가리키는 값', array3d[1, 1, 0])\n",
    "print('(depth = 1, row=0, col=1) index 가리키는 값', array3d[1, 0, 1])"
   ]
  },
  {
   "cell_type": "code",
   "execution_count": 71,
   "id": "d3ccbfb7",
   "metadata": {},
   "outputs": [
    {
     "name": "stdout",
     "output_type": "stream",
     "text": [
      "[0 1 2]\n",
      "<class 'numpy.ndarray'>\n",
      "int32\n",
      "[4 5 6 7 8 9]\n",
      "[0 1 2 3 4]\n"
     ]
    }
   ],
   "source": [
    "array1 = np.arange(0, 10)\n",
    "\n",
    "array3 = array1[0:3]\n",
    "print(array3)\n",
    "print(type(array3))\n",
    "print(array3.dtype)\n",
    "\n",
    "array4 = array1[4:]\n",
    "print(array4)\n",
    "\n",
    "array5 = array1[:5]\n",
    "print(array5)"
   ]
  },
  {
   "cell_type": "code",
   "execution_count": 83,
   "id": "50474110",
   "metadata": {},
   "outputs": [
    {
     "name": "stdout",
     "output_type": "stream",
     "text": [
      "array2d : \n",
      " [[1 2 3]\n",
      " [4 5 6]\n",
      " [7 8 9]]\n",
      "[0:2, 0:1]:\n",
      " [[1]\n",
      " [4]]\n",
      "[1:, 1:]:\n",
      " [[5 6]\n",
      " [8 9]]\n",
      "[2, 1:]:\n",
      " [8 9]\n",
      "[1,]:\n",
      " [4 5 6]\n",
      "[,1]:\n",
      " [[2]\n",
      " [5]\n",
      " [8]]\n"
     ]
    }
   ],
   "source": [
    "array1d = np.arange(1, 10)\n",
    "array2d = array1d.reshape(3, 3)\n",
    "print('array2d : \\n', array2d)\n",
    "\n",
    "print('[0:2, 0:1]:\\n', array2d[0:2, 0:1])\n",
    "print('[1:, 1:]:\\n', array2d[1:, 1:])\n",
    "print('[2, 1:]:\\n', array2d[2, 1:])\n",
    "print('[1,]:\\n', array2d[1,])\n",
    "print('[,1]:\\n', array2d[:,1:2])\n",
    "\n",
    "# array2d[:,1] 하면 차원 축소\n",
    "# array2d[:,1:2] 하면 차원 유지\n",
    "# 기본적으로 둘다 슬라이싱을 해야 차원이 유지되는 듯"
   ]
  },
  {
   "cell_type": "code",
   "execution_count": 88,
   "id": "c2672076",
   "metadata": {},
   "outputs": [
    {
     "name": "stdout",
     "output_type": "stream",
     "text": [
      "[[[1 2]\n",
      "  [3 4]]\n",
      "\n",
      " [[5 6]\n",
      "  [7 8]]]\n",
      "[0:1, :, 0:1]:\n",
      " [[[1]\n",
      "  [3]]]\n",
      "[0, :, 0:1]:\n",
      " [[1]\n",
      " [3]]\n",
      "[0, :, 0]:\n",
      " [1 3]\n"
     ]
    }
   ],
   "source": [
    "array1d = np.arange(1, 9)\n",
    "array3d = array1d.reshape(2, 2, 2)\n",
    "print(array3d)\n",
    "\n",
    "print('[0:1, :, 0:1]:\\n', array3d[0:1, :, 0:1])\n",
    "print('[0, :, 0:1]:\\n', array3d[0, :, 0:1])\n",
    "print('[0, :, 0]:\\n', array3d[0, :, 0])"
   ]
  },
  {
   "cell_type": "code",
   "execution_count": 94,
   "id": "ebf09fc8",
   "metadata": {},
   "outputs": [
    {
     "name": "stdout",
     "output_type": "stream",
     "text": [
      "array2d : \n",
      " [[1 2 3]\n",
      " [4 5 6]\n",
      " [7 8 9]]\n",
      "array2d[[0, 1], 2] => \n",
      " [3 6]\n",
      "array2d[[0, 1], 0:2] => \n",
      " [[1 2]\n",
      " [4 5]]\n"
     ]
    }
   ],
   "source": [
    "array1d = np.arange(1, 10)\n",
    "array2d = array1d.reshape(3, 3)\n",
    "print('array2d : \\n', array2d)\n",
    "\n",
    "print('array2d[[0, 1], 2] => \\n', array2d[[0, 1], 2])\n",
    "print('array2d[[0, 1], 0:2] => \\n', array2d[[0, 1], 0:2])"
   ]
  },
  {
   "cell_type": "code",
   "execution_count": 115,
   "id": "cf2c3964",
   "metadata": {},
   "outputs": [
    {
     "name": "stdout",
     "output_type": "stream",
     "text": [
      "[False False False False False  True  True  True  True]\n",
      "[6 7 8 9]\n",
      "[[False False False]\n",
      " [False False  True]\n",
      " [ True  True  True]]\n",
      "[6 7 8 9]\n",
      "[[0 0 0]\n",
      " [0 0 6]\n",
      " [7 8 9]]\n"
     ]
    }
   ],
   "source": [
    "array1d = np.arange(1, 10)\n",
    "print(array1d > 5)\n",
    "\n",
    "array3 = array1d[array1d > 5]\n",
    "print(array3)\n",
    "\n",
    "array2d = array1d.reshape(3, 3)\n",
    "print(array2d > 5)\n",
    "print(array2d[array2d > 5])\n",
    "\n",
    "# to maintain shape\n",
    "print(array2d*(array2d > 5))"
   ]
  },
  {
   "cell_type": "code",
   "execution_count": 119,
   "id": "23a999f4",
   "metadata": {},
   "outputs": [
    {
     "name": "stdout",
     "output_type": "stream",
     "text": [
      "original array [3 1 9 5]\n",
      "sort1 :  [1 3 5 9]\n",
      "original array [3 1 9 5]\n",
      "sort2 :  None\n",
      "original array [1 3 5 9]\n",
      "in reverse order [9 5 3 1]\n"
     ]
    }
   ],
   "source": [
    "org_array = np.array([3, 1, 9, 5])\n",
    "print('original array', org_array)\n",
    "\n",
    "sort1 = np.sort(org_array)\n",
    "print('sort1 : ', sort1)\n",
    "print('original array', org_array)\n",
    "\n",
    "sort2 = org_array.sort()\n",
    "print('sort2 : ', sort2)\n",
    "print('original array', org_array)\n",
    "\n",
    "print('in reverse order', np.sort(org_array)[::-1])"
   ]
  },
  {
   "cell_type": "code",
   "execution_count": 123,
   "id": "ff0f57e7",
   "metadata": {},
   "outputs": [
    {
     "name": "stdout",
     "output_type": "stream",
     "text": [
      "[[3 1 5]\n",
      " [6 7 2]]\n",
      "axis0\n",
      " [[3 1 2]\n",
      " [6 7 5]]\n",
      "axis1\n",
      " [[1 3 5]\n",
      " [2 6 7]]\n"
     ]
    }
   ],
   "source": [
    "array2d = np.array([[3, 1, 5], [6, 7, 2]])\n",
    "print(array2d)\n",
    "\n",
    "print('axis0\\n', np.sort(array2d, axis = 0))\n",
    "print('axis1\\n', np.sort(array2d, axis = 1))"
   ]
  },
  {
   "cell_type": "code",
   "execution_count": 127,
   "id": "bb4ce8d0",
   "metadata": {},
   "outputs": [
    {
     "name": "stdout",
     "output_type": "stream",
     "text": [
      "[1 3 5 9]\n",
      "<class 'numpy.ndarray'>\n",
      "정렬된 행렬 기준, 원본 행렬의 인덱스 :  [1 0 3 2]\n"
     ]
    }
   ],
   "source": [
    "org_array = [3, 1, 9, 5]\n",
    "sorted_array = np.sort(org_array)\n",
    "print(sorted_array)\n",
    "sort_indices = np.argsort(org_array)\n",
    "print(type(sort_indices))\n",
    "print('정렬된 행렬 기준, 원본 행렬의 인덱스 : ', sort_indices)"
   ]
  },
  {
   "cell_type": "code",
   "execution_count": 129,
   "id": "4a88b0f9",
   "metadata": {},
   "outputs": [
    {
     "name": "stdout",
     "output_type": "stream",
     "text": [
      "['D' 'B' 'E' 'C' 'A']\n",
      "[98 95 88 84 78]\n"
     ]
    }
   ],
   "source": [
    "name_array = np.array(['A', 'B', 'C', 'D', 'E'])\n",
    "score_array = np.array([78, 95, 84, 98, 88])\n",
    "\n",
    "sorted_score_array = np.sort(score_array)[::-1]\n",
    "indices_array = np.argsort(score_array)[::-1]\n",
    "sorted_name_array = name_array[indices_array]\n",
    "\n",
    "print(sorted_name_array)\n",
    "print(sorted_score_array)"
   ]
  },
  {
   "cell_type": "code",
   "execution_count": 130,
   "id": "7c78bf0e",
   "metadata": {},
   "outputs": [
    {
     "name": "stdout",
     "output_type": "stream",
     "text": [
      "[[ 58  64]\n",
      " [139 154]]\n"
     ]
    }
   ],
   "source": [
    "A = np.array([[1, 2, 3], \n",
    "              [4, 5, 6]])\n",
    "B = np.array([[7, 8],\n",
    "             [9, 10],\n",
    "             [11, 12]])\n",
    "dot_product =  np.dot(A, B)\n",
    "print(dot_product)"
   ]
  },
  {
   "cell_type": "code",
   "execution_count": 131,
   "id": "28634511",
   "metadata": {},
   "outputs": [
    {
     "name": "stdout",
     "output_type": "stream",
     "text": [
      "[[1 4]\n",
      " [2 5]\n",
      " [3 6]]\n"
     ]
    }
   ],
   "source": [
    "A = np.array([[1, 2, 3], \n",
    "              [4, 5, 6]])\n",
    "A_t = np.transpose(A)\n",
    "print(A_t)"
   ]
  },
  {
   "cell_type": "code",
   "execution_count": null,
   "id": "c13c41d8",
   "metadata": {},
   "outputs": [],
   "source": []
  }
 ],
 "metadata": {
  "kernelspec": {
   "display_name": "DL",
   "language": "python",
   "name": "dl"
  },
  "language_info": {
   "codemirror_mode": {
    "name": "ipython",
    "version": 3
   },
   "file_extension": ".py",
   "mimetype": "text/x-python",
   "name": "python",
   "nbconvert_exporter": "python",
   "pygments_lexer": "ipython3",
   "version": "3.8.18"
  }
 },
 "nbformat": 4,
 "nbformat_minor": 5
}
