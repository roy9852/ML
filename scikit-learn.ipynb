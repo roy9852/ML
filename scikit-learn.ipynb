{
 "cells": [
  {
   "cell_type": "code",
   "execution_count": 2,
   "id": "94f3d3ae",
   "metadata": {},
   "outputs": [],
   "source": [
    "import sklearn"
   ]
  },
  {
   "cell_type": "code",
   "execution_count": 3,
   "id": "a281a225",
   "metadata": {},
   "outputs": [
    {
     "name": "stdout",
     "output_type": "stream",
     "text": [
      "1.3.2\n"
     ]
    }
   ],
   "source": [
    "print(sklearn.__version__)"
   ]
  },
  {
   "cell_type": "markdown",
   "id": "6d4609ea",
   "metadata": {},
   "source": [
    "<font color = pink> 붓꽃 품종 예측하기 (Predicting the variety of irises)"
   ]
  },
  {
   "cell_type": "code",
   "execution_count": 4,
   "id": "310d972c",
   "metadata": {},
   "outputs": [],
   "source": [
    "# 꽃잎의 길이와 너비, 꽃받침의 길이와 너비\n",
    "# sklearn.datasets : 데이터 세트 생성\n",
    "# sklearn.tree : 트리 기반 ML 알고리즘 \n",
    "# sklearn.model_selection : 학습-검증-예측 데이터 분리, 하이퍼 파라미터 지정 등"
   ]
  },
  {
   "cell_type": "code",
   "execution_count": 5,
   "id": "d5e0af5a",
   "metadata": {},
   "outputs": [],
   "source": [
    "from sklearn.datasets import load_iris\n",
    "from sklearn.tree import DecisionTreeClassifier\n",
    "from sklearn.model_selection import train_test_split"
   ]
  },
  {
   "cell_type": "code",
   "execution_count": 10,
   "id": "098165ca",
   "metadata": {},
   "outputs": [
    {
     "name": "stdout",
     "output_type": "stream",
     "text": [
      "<class 'sklearn.utils._bunch.Bunch'>\n",
      "<class 'numpy.ndarray'>\n",
      "<class 'numpy.ndarray'>\n",
      "iris target 값 : \n",
      " [0 0 0 0 0 0 0 0 0 0 0 0 0 0 0 0 0 0 0 0 0 0 0 0 0 0 0 0 0 0 0 0 0 0 0 0 0\n",
      " 0 0 0 0 0 0 0 0 0 0 0 0 0 1 1 1 1 1 1 1 1 1 1 1 1 1 1 1 1 1 1 1 1 1 1 1 1\n",
      " 1 1 1 1 1 1 1 1 1 1 1 1 1 1 1 1 1 1 1 1 1 1 1 1 1 1 2 2 2 2 2 2 2 2 2 2 2\n",
      " 2 2 2 2 2 2 2 2 2 2 2 2 2 2 2 2 2 2 2 2 2 2 2 2 2 2 2 2 2 2 2 2 2 2 2 2 2\n",
      " 2 2]\n",
      "iris target 명 : \n",
      " ['setosa' 'versicolor' 'virginica']\n",
      "############################################\n",
      "<class 'pandas.core.frame.DataFrame'>\n",
      "RangeIndex: 150 entries, 0 to 149\n",
      "Data columns (total 5 columns):\n",
      " #   Column             Non-Null Count  Dtype  \n",
      "---  ------             --------------  -----  \n",
      " 0   sepal length (cm)  150 non-null    float64\n",
      " 1   sepal width (cm)   150 non-null    float64\n",
      " 2   petal length (cm)  150 non-null    float64\n",
      " 3   petal width (cm)   150 non-null    float64\n",
      " 4   label              150 non-null    int32  \n",
      "dtypes: float64(4), int32(1)\n",
      "memory usage: 5.4 KB\n",
      "None\n",
      "       sepal length (cm)  sepal width (cm)  petal length (cm)  petal width (cm)       label\n",
      "count         150.000000        150.000000         150.000000        150.000000  150.000000\n",
      "mean            5.843333          3.057333           3.758000          1.199333    1.000000\n",
      "std             0.828066          0.435866           1.765298          0.762238    0.819232\n",
      "min             4.300000          2.000000           1.000000          0.100000    0.000000\n",
      "25%             5.100000          2.800000           1.600000          0.300000    0.000000\n",
      "50%             5.800000          3.000000           4.350000          1.300000    1.000000\n",
      "75%             6.400000          3.300000           5.100000          1.800000    2.000000\n",
      "max             7.900000          4.400000           6.900000          2.500000    2.000000\n"
     ]
    },
    {
     "data": {
      "text/html": [
       "<div>\n",
       "<style scoped>\n",
       "    .dataframe tbody tr th:only-of-type {\n",
       "        vertical-align: middle;\n",
       "    }\n",
       "\n",
       "    .dataframe tbody tr th {\n",
       "        vertical-align: top;\n",
       "    }\n",
       "\n",
       "    .dataframe thead th {\n",
       "        text-align: right;\n",
       "    }\n",
       "</style>\n",
       "<table border=\"1\" class=\"dataframe\">\n",
       "  <thead>\n",
       "    <tr style=\"text-align: right;\">\n",
       "      <th></th>\n",
       "      <th>sepal length (cm)</th>\n",
       "      <th>sepal width (cm)</th>\n",
       "      <th>petal length (cm)</th>\n",
       "      <th>petal width (cm)</th>\n",
       "      <th>label</th>\n",
       "    </tr>\n",
       "  </thead>\n",
       "  <tbody>\n",
       "    <tr>\n",
       "      <th>0</th>\n",
       "      <td>5.1</td>\n",
       "      <td>3.5</td>\n",
       "      <td>1.4</td>\n",
       "      <td>0.2</td>\n",
       "      <td>0</td>\n",
       "    </tr>\n",
       "    <tr>\n",
       "      <th>1</th>\n",
       "      <td>4.9</td>\n",
       "      <td>3.0</td>\n",
       "      <td>1.4</td>\n",
       "      <td>0.2</td>\n",
       "      <td>0</td>\n",
       "    </tr>\n",
       "    <tr>\n",
       "      <th>2</th>\n",
       "      <td>4.7</td>\n",
       "      <td>3.2</td>\n",
       "      <td>1.3</td>\n",
       "      <td>0.2</td>\n",
       "      <td>0</td>\n",
       "    </tr>\n",
       "    <tr>\n",
       "      <th>3</th>\n",
       "      <td>4.6</td>\n",
       "      <td>3.1</td>\n",
       "      <td>1.5</td>\n",
       "      <td>0.2</td>\n",
       "      <td>0</td>\n",
       "    </tr>\n",
       "    <tr>\n",
       "      <th>4</th>\n",
       "      <td>5.0</td>\n",
       "      <td>3.6</td>\n",
       "      <td>1.4</td>\n",
       "      <td>0.2</td>\n",
       "      <td>0</td>\n",
       "    </tr>\n",
       "  </tbody>\n",
       "</table>\n",
       "</div>"
      ],
      "text/plain": [
       "   sepal length (cm)  sepal width (cm)  petal length (cm)  petal width (cm)  label\n",
       "0                5.1               3.5                1.4               0.2      0\n",
       "1                4.9               3.0                1.4               0.2      0\n",
       "2                4.7               3.2                1.3               0.2      0\n",
       "3                4.6               3.1                1.5               0.2      0\n",
       "4                5.0               3.6                1.4               0.2      0"
      ]
     },
     "execution_count": 10,
     "metadata": {},
     "output_type": "execute_result"
    }
   ],
   "source": [
    "import pandas as pd\n",
    "\n",
    "iris = load_iris()\n",
    "\n",
    "print(type(iris))\n",
    "iris_data = iris.data\n",
    "iris_label = iris.target\n",
    "print(type(iris_data))\n",
    "print(type(iris_label))\n",
    "\n",
    "print('iris target 값 : \\n', iris_label)\n",
    "print('iris target 명 : \\n', iris.target_names)\n",
    "\n",
    "print(\"############################################\")\n",
    "iris_df = pd.DataFrame(data = iris_data, columns = iris.feature_names)\n",
    "iris_df['label'] = iris.target\n",
    "\n",
    "print(iris_df.info())\n",
    "print(iris_df.describe())\n",
    "iris_df.head()"
   ]
  },
  {
   "cell_type": "code",
   "execution_count": 11,
   "id": "06e8a49a",
   "metadata": {},
   "outputs": [],
   "source": [
    "X_train, X_test, y_train, y_test = train_test_split(iris_data, iris_label, test_size=0.2, random_state=11)"
   ]
  },
  {
   "cell_type": "code",
   "execution_count": 12,
   "id": "eb516f43",
   "metadata": {},
   "outputs": [
    {
     "data": {
      "text/html": [
       "<style>#sk-container-id-1 {color: black;}#sk-container-id-1 pre{padding: 0;}#sk-container-id-1 div.sk-toggleable {background-color: white;}#sk-container-id-1 label.sk-toggleable__label {cursor: pointer;display: block;width: 100%;margin-bottom: 0;padding: 0.3em;box-sizing: border-box;text-align: center;}#sk-container-id-1 label.sk-toggleable__label-arrow:before {content: \"▸\";float: left;margin-right: 0.25em;color: #696969;}#sk-container-id-1 label.sk-toggleable__label-arrow:hover:before {color: black;}#sk-container-id-1 div.sk-estimator:hover label.sk-toggleable__label-arrow:before {color: black;}#sk-container-id-1 div.sk-toggleable__content {max-height: 0;max-width: 0;overflow: hidden;text-align: left;background-color: #f0f8ff;}#sk-container-id-1 div.sk-toggleable__content pre {margin: 0.2em;color: black;border-radius: 0.25em;background-color: #f0f8ff;}#sk-container-id-1 input.sk-toggleable__control:checked~div.sk-toggleable__content {max-height: 200px;max-width: 100%;overflow: auto;}#sk-container-id-1 input.sk-toggleable__control:checked~label.sk-toggleable__label-arrow:before {content: \"▾\";}#sk-container-id-1 div.sk-estimator input.sk-toggleable__control:checked~label.sk-toggleable__label {background-color: #d4ebff;}#sk-container-id-1 div.sk-label input.sk-toggleable__control:checked~label.sk-toggleable__label {background-color: #d4ebff;}#sk-container-id-1 input.sk-hidden--visually {border: 0;clip: rect(1px 1px 1px 1px);clip: rect(1px, 1px, 1px, 1px);height: 1px;margin: -1px;overflow: hidden;padding: 0;position: absolute;width: 1px;}#sk-container-id-1 div.sk-estimator {font-family: monospace;background-color: #f0f8ff;border: 1px dotted black;border-radius: 0.25em;box-sizing: border-box;margin-bottom: 0.5em;}#sk-container-id-1 div.sk-estimator:hover {background-color: #d4ebff;}#sk-container-id-1 div.sk-parallel-item::after {content: \"\";width: 100%;border-bottom: 1px solid gray;flex-grow: 1;}#sk-container-id-1 div.sk-label:hover label.sk-toggleable__label {background-color: #d4ebff;}#sk-container-id-1 div.sk-serial::before {content: \"\";position: absolute;border-left: 1px solid gray;box-sizing: border-box;top: 0;bottom: 0;left: 50%;z-index: 0;}#sk-container-id-1 div.sk-serial {display: flex;flex-direction: column;align-items: center;background-color: white;padding-right: 0.2em;padding-left: 0.2em;position: relative;}#sk-container-id-1 div.sk-item {position: relative;z-index: 1;}#sk-container-id-1 div.sk-parallel {display: flex;align-items: stretch;justify-content: center;background-color: white;position: relative;}#sk-container-id-1 div.sk-item::before, #sk-container-id-1 div.sk-parallel-item::before {content: \"\";position: absolute;border-left: 1px solid gray;box-sizing: border-box;top: 0;bottom: 0;left: 50%;z-index: -1;}#sk-container-id-1 div.sk-parallel-item {display: flex;flex-direction: column;z-index: 1;position: relative;background-color: white;}#sk-container-id-1 div.sk-parallel-item:first-child::after {align-self: flex-end;width: 50%;}#sk-container-id-1 div.sk-parallel-item:last-child::after {align-self: flex-start;width: 50%;}#sk-container-id-1 div.sk-parallel-item:only-child::after {width: 0;}#sk-container-id-1 div.sk-dashed-wrapped {border: 1px dashed gray;margin: 0 0.4em 0.5em 0.4em;box-sizing: border-box;padding-bottom: 0.4em;background-color: white;}#sk-container-id-1 div.sk-label label {font-family: monospace;font-weight: bold;display: inline-block;line-height: 1.2em;}#sk-container-id-1 div.sk-label-container {text-align: center;}#sk-container-id-1 div.sk-container {/* jupyter's `normalize.less` sets `[hidden] { display: none; }` but bootstrap.min.css set `[hidden] { display: none !important; }` so we also need the `!important` here to be able to override the default hidden behavior on the sphinx rendered scikit-learn.org. See: https://github.com/scikit-learn/scikit-learn/issues/21755 */display: inline-block !important;position: relative;}#sk-container-id-1 div.sk-text-repr-fallback {display: none;}</style><div id=\"sk-container-id-1\" class=\"sk-top-container\"><div class=\"sk-text-repr-fallback\"><pre>DecisionTreeClassifier(random_state=11)</pre><b>In a Jupyter environment, please rerun this cell to show the HTML representation or trust the notebook. <br />On GitHub, the HTML representation is unable to render, please try loading this page with nbviewer.org.</b></div><div class=\"sk-container\" hidden><div class=\"sk-item\"><div class=\"sk-estimator sk-toggleable\"><input class=\"sk-toggleable__control sk-hidden--visually\" id=\"sk-estimator-id-1\" type=\"checkbox\" checked><label for=\"sk-estimator-id-1\" class=\"sk-toggleable__label sk-toggleable__label-arrow\">DecisionTreeClassifier</label><div class=\"sk-toggleable__content\"><pre>DecisionTreeClassifier(random_state=11)</pre></div></div></div></div></div>"
      ],
      "text/plain": [
       "DecisionTreeClassifier(random_state=11)"
      ]
     },
     "execution_count": 12,
     "metadata": {},
     "output_type": "execute_result"
    }
   ],
   "source": [
    "# decision tree classifier\n",
    "dt_clf = DecisionTreeClassifier(random_state=11)\n",
    "\n",
    "dt_clf.fit(X_train, y_train)"
   ]
  },
  {
   "cell_type": "code",
   "execution_count": 13,
   "id": "640e5504",
   "metadata": {},
   "outputs": [],
   "source": [
    "pred = dt_clf.predict(X_test)"
   ]
  },
  {
   "cell_type": "code",
   "execution_count": 14,
   "id": "c2b043d1",
   "metadata": {},
   "outputs": [
    {
     "name": "stdout",
     "output_type": "stream",
     "text": [
      "예측 정확도 : 0.9333\n"
     ]
    }
   ],
   "source": [
    "from sklearn.metrics import accuracy_score\n",
    "print(\"예측 정확도 : {0:.4f}\".format(accuracy_score(y_test, pred)))\n",
    "\n",
    "# 0 : format에서 몇번째 변수를 쓸 것인지\n",
    "# :1.4f : float 형식으로 소수점 앞자리는 1자리, 소수점 뒷자리는 4자리 배정"
   ]
  },
  {
   "cell_type": "markdown",
   "id": "6bb59825",
   "metadata": {},
   "source": [
    "<font color = pink> 사이킷런의 주요 모듈"
   ]
  },
  {
   "cell_type": "markdown",
   "id": "c477878d",
   "metadata": {},
   "source": [
    "예제 데이터\n",
    "sklearn.datasets\n",
    "\n",
    "피처 처리\n",
    "sklearn.preprocessing : 문자열->숫자, 정규화, 스케일링\n",
    "sklearn.feature_selection : 더 중요한 피처를 우선순위로 셀렉션\n",
    "sklearn.feature_extraction : 텍스트나 이미지에서 벡터화된 픽쳐를 추출\n",
    "\n",
    "차원 축소\n",
    "sklearn.decomposition : PCA, NMF, SVD 등\n",
    "\n",
    "데이터 분리, 검증, 파라미터 튜닝\n",
    "sklearn.model_selection\n",
    "\n",
    "평가\n",
    "sklearn.metrics : 다양한 정확도 측정 방법 제공\n",
    "\n",
    "ML 알고리즘\n",
    "sklearn.ensemble : 앙상블 알고리즘 - 랜덤 포레스트, 에이다 부스트, 그래디언트 부스팅\n",
    "sklearn.linear_model : 선형 회귀, 릿지, 라쏘, 로지스틱, SGD\n",
    "sklearn.naive_bayes : 나이브 베이즈 알고리즘 - 가우시안 NB, 다항 분포 NB\n",
    "sklearn.svd : 서포터 벡터 머신\n",
    "sklearn.tree : 의사 결정 트리 \n",
    "sklearn.cluster : 비지도 클러스터링 알고리즘 - K평균, 계층형, DBSCAN\n",
    "\n",
    "유틸리티\n",
    "sklearn.pipeline : 여러가지 유틸리티"
   ]
  },
  {
   "cell_type": "markdown",
   "id": "b9645e28",
   "metadata": {},
   "source": [
    "예제 데이터 종류\n",
    "\n",
    "datasets.load_boston() : 회귀, 보스턴의 집 피처, 가격\n",
    "datasets.load_breast_canser() : 분류, 유방암 피처, 음양 여부\n",
    "datasets.load_diabetes() : 회귀, 당뇨 데이터 세트\n",
    "datasets.load_digits() : 분류, 0부터 9까지의 이미지 픽셀 데이터 세트\n",
    "datasets.load_iris() : 분류, 붓꽃 피처, 분류\n",
    "\n",
    "보통 딕셔너리 -> 키 : data, target, target_name, DESCR\n",
    "\n",
    "\n",
    "fetch 계열 : 인터넷에서 다운로드하여 사용 -> scikit_learn_data 폴더에 저장\n",
    "\n",
    "fetch_covtype() : 회귀, 토지 조사 자료\n",
    "fetch_20newsgroups() : 뉴스 그룹 텍스트 자료\n",
    "기타 등등\n",
    "\n",
    "\n",
    "인위적으로 데이터 만들기\n",
    "\n",
    "datasets.make_classification() : 분류를 위한 데이터 세트 생성\n",
    "datasets.make_blobs() : 클러스터링을 위한 세트 생성"
   ]
  },
  {
   "cell_type": "code",
   "execution_count": 15,
   "id": "7a874fc5",
   "metadata": {},
   "outputs": [
    {
     "name": "stdout",
     "output_type": "stream",
     "text": [
      "<class 'sklearn.utils._bunch.Bunch'>\n"
     ]
    }
   ],
   "source": [
    "from sklearn.datasets import load_iris\n",
    "\n",
    "iris_data = load_iris()\n",
    "print(type(iris_data))"
   ]
  },
  {
   "cell_type": "code",
   "execution_count": 17,
   "id": "7c769498",
   "metadata": {},
   "outputs": [
    {
     "name": "stdout",
     "output_type": "stream",
     "text": [
      "keys of iris datasets :  dict_keys(['data', 'target', 'frame', 'target_names', 'DESCR', 'feature_names', 'filename', 'data_module'])\n"
     ]
    }
   ],
   "source": [
    "keys = iris_data.keys()\n",
    "print('keys of iris datasets : ', keys)"
   ]
  },
  {
   "cell_type": "code",
   "execution_count": 22,
   "id": "0b348959",
   "metadata": {},
   "outputs": [
    {
     "name": "stdout",
     "output_type": "stream",
     "text": [
      "type of feature_names :  <class 'list'>\n",
      "shape of feature_names :  4\n",
      "['sepal length (cm)', 'sepal width (cm)', 'petal length (cm)', 'petal width (cm)']\n",
      "type of target name :  <class 'numpy.ndarray'>\n",
      "shape of target name :  3\n",
      "['setosa' 'versicolor' 'virginica']\n",
      "type of data :  <class 'numpy.ndarray'>\n",
      "shape of data :  (150, 4)\n",
      "type of target :  <class 'numpy.ndarray'>\n",
      "shape of target :  (150,)\n"
     ]
    }
   ],
   "source": [
    "print(\"type of feature_names : \", type(iris_data.feature_names))\n",
    "print(\"shape of feature_names : \", len(iris_data.feature_names))\n",
    "print(iris_data.feature_names)\n",
    "\n",
    "print(\"type of target name : \", type(iris_data.target_names))\n",
    "print(\"shape of target name : \", len(iris_data.target_names))\n",
    "print(iris_data.target_names)\n",
    "\n",
    "print(\"type of data : \", type(iris_data.data))\n",
    "print(\"shape of data : \", iris_data.data.shape)\n",
    "\n",
    "print(\"type of target : \", type(iris_data.target))\n",
    "print(\"shape of target : \", iris_data.target.shape)"
   ]
  },
  {
   "cell_type": "code",
   "execution_count": null,
   "id": "55752d2d",
   "metadata": {},
   "outputs": [],
   "source": []
  }
 ],
 "metadata": {
  "kernelspec": {
   "display_name": "DL",
   "language": "python",
   "name": "dl"
  },
  "language_info": {
   "codemirror_mode": {
    "name": "ipython",
    "version": 3
   },
   "file_extension": ".py",
   "mimetype": "text/x-python",
   "name": "python",
   "nbconvert_exporter": "python",
   "pygments_lexer": "ipython3",
   "version": "3.8.18"
  }
 },
 "nbformat": 4,
 "nbformat_minor": 5
}
